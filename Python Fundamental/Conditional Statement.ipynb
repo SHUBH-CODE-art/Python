{
 "cells": [
  {
   "cell_type": "markdown",
   "id": "d309e6fb",
   "metadata": {},
   "source": [
    "# Condition Statement / Decision Making Statement\n"
   ]
  },
  {
   "cell_type": "markdown",
   "id": "779489e3",
   "metadata": {},
   "source": [
    "In python decision making is performed by the following statements 1]if statement 2]if else statement 3]if elif statement"
   ]
  },
  {
   "cell_type": "markdown",
   "id": "42324a0f",
   "metadata": {},
   "source": [
    "# if statement"
   ]
  },
  {
   "cell_type": "markdown",
   "id": "527d1d1d",
   "metadata": {},
   "source": [
    "The if statement is used to test a perticular condition and  if condition is true it executes a block of code known as if-block. the condition of if statement can be any valid logical expression which can be either evaluated to true or false "
   ]
  },
  {
   "cell_type": "code",
   "execution_count": 2,
   "id": "c1365b13",
   "metadata": {},
   "outputs": [
    {
     "name": "stdout",
     "output_type": "stream",
     "text": [
      "It gets executed because if condition is false\n"
     ]
    }
   ],
   "source": [
    "a=10\n",
    "if a<15: #True\n",
    "    print(\"It gets executed because if condition is false\") #executed"
   ]
  },
  {
   "cell_type": "code",
   "execution_count": 3,
   "id": "18ae3ae7",
   "metadata": {},
   "outputs": [],
   "source": [
    "if a>15:#false\n",
    "    print(\"It doesnot get executed because if condition is false\") #not executed"
   ]
  },
  {
   "cell_type": "code",
   "execution_count": 4,
   "id": "ad2b0b18",
   "metadata": {},
   "outputs": [
    {
     "ename": "NameError",
     "evalue": "name 'b' is not defined",
     "output_type": "error",
     "traceback": [
      "\u001b[1;31m---------------------------------------------------------------------------\u001b[0m",
      "\u001b[1;31mNameError\u001b[0m                                 Traceback (most recent call last)",
      "\u001b[1;32m~\\AppData\\Local\\Temp/ipykernel_14788/988121549.py\u001b[0m in \u001b[0;36m<module>\u001b[1;34m\u001b[0m\n\u001b[1;32m----> 1\u001b[1;33m \u001b[1;32mif\u001b[0m \u001b[0mb\u001b[0m\u001b[1;33m<\u001b[0m\u001b[1;36m10\u001b[0m\u001b[1;33m:\u001b[0m \u001b[1;31m#b is not defined that's why it gives the name error\u001b[0m\u001b[1;33m\u001b[0m\u001b[1;33m\u001b[0m\u001b[0m\n\u001b[0m\u001b[0;32m      2\u001b[0m     \u001b[0mprint\u001b[0m\u001b[1;33m(\u001b[0m\u001b[1;34m\"It does n't get executed if condition is false\"\u001b[0m\u001b[1;33m)\u001b[0m \u001b[1;31m#not defined\u001b[0m\u001b[1;33m\u001b[0m\u001b[1;33m\u001b[0m\u001b[0m\n",
      "\u001b[1;31mNameError\u001b[0m: name 'b' is not defined"
     ]
    }
   ],
   "source": [
    "if b<10: #b is not defined that's why it gives the name error\n",
    "    print(\"It does n't get executed if condition is false\") #not defined"
   ]
  },
  {
   "cell_type": "code",
   "execution_count": 5,
   "id": "642d5441",
   "metadata": {},
   "outputs": [
    {
     "ename": "IndentationError",
     "evalue": "expected an indented block (Temp/ipykernel_14788/3972764244.py, line 1)",
     "output_type": "error",
     "traceback": [
      "\u001b[1;36m  File \u001b[1;32m\"C:\\Users\\Lenovo\\AppData\\Local\\Temp/ipykernel_14788/3972764244.py\"\u001b[1;36m, line \u001b[1;32m1\u001b[0m\n\u001b[1;33m    if a<15:#if gives syntax error\u001b[0m\n\u001b[1;37m                                  ^\u001b[0m\n\u001b[1;31mIndentationError\u001b[0m\u001b[1;31m:\u001b[0m expected an indented block\n"
     ]
    }
   ],
   "source": [
    "if a<15:#if gives syntax error"
   ]
  },
  {
   "cell_type": "code",
   "execution_count": 6,
   "id": "7e0b0275",
   "metadata": {},
   "outputs": [],
   "source": [
    "if a<15:\n",
    "    pass"
   ]
  },
  {
   "cell_type": "code",
   "execution_count": 7,
   "id": "a0a2407f",
   "metadata": {},
   "outputs": [
    {
     "ename": "SyntaxError",
     "evalue": "invalid syntax (Temp/ipykernel_14788/3283486192.py, line 1)",
     "output_type": "error",
     "traceback": [
      "\u001b[1;36m  File \u001b[1;32m\"C:\\Users\\Lenovo\\AppData\\Local\\Temp/ipykernel_14788/3283486192.py\"\u001b[1;36m, line \u001b[1;32m1\u001b[0m\n\u001b[1;33m    if a=15: #is assignment operater it does not give boolean value\u001b[0m\n\u001b[1;37m        ^\u001b[0m\n\u001b[1;31mSyntaxError\u001b[0m\u001b[1;31m:\u001b[0m invalid syntax\n"
     ]
    }
   ],
   "source": [
    "if a=15: #is assignment operater it does not give boolean value\n",
    "    pass"
   ]
  },
  {
   "cell_type": "code",
   "execution_count": 8,
   "id": "8830fc92",
   "metadata": {},
   "outputs": [],
   "source": [
    "# if you want to run if condition the use operater that gives boolean value other it throws error"
   ]
  },
  {
   "cell_type": "code",
   "execution_count": 9,
   "id": "8614281a",
   "metadata": {},
   "outputs": [],
   "source": [
    "if 24 < 15:\n",
    "    print(\"My name is Aditya Marne\")"
   ]
  },
  {
   "cell_type": "markdown",
   "id": "dbec4ddd",
   "metadata": {},
   "source": [
    "# 2] if else statement"
   ]
  },
  {
   "cell_type": "markdown",
   "id": "3b22665f",
   "metadata": {},
   "source": [
    "The if-else statement provides an else block combined with the if statement which is executed in the false case of the condition \n",
    "\n",
    "If the condition is true, the the if-nlock is exected. Otherwise the else block is executed.\n",
    "\n",
    "Syntax :-\n",
    "    \n",
    "    if condition\n",
    "    #block of statement\n",
    "    else:\n",
    "    #another block of statement (else-block)"
   ]
  },
  {
   "cell_type": "code",
   "execution_count": 19,
   "id": "f7a0435e",
   "metadata": {},
   "outputs": [
    {
     "name": "stdout",
     "output_type": "stream",
     "text": [
      "If the if statement give false\n"
     ]
    }
   ],
   "source": [
    "if 10 < 3: #False\n",
    "    print(\"10 is lesser than 3\")\n",
    "else:\n",
    "    print(\"If the if statement give false\")#executed"
   ]
  },
  {
   "cell_type": "code",
   "execution_count": 20,
   "id": "a881f82f",
   "metadata": {},
   "outputs": [
    {
     "name": "stdout",
     "output_type": "stream",
     "text": [
      "5 is lesser than 10\n"
     ]
    }
   ],
   "source": [
    "if 5<10: #true\n",
    "    print(\"5 is lesser than 10\")#executed\n",
    "else:\n",
    "    print(\"If statement is wrong\")"
   ]
  },
  {
   "cell_type": "markdown",
   "id": "bd0d5e11",
   "metadata": {},
   "source": [
    "# if elif statement \n"
   ]
  },
  {
   "cell_type": "markdown",
   "id": "826bdbd0",
   "metadata": {},
   "source": [
    "The elif statement enables us to check multiple condition and execute the specific block of statement block of statement depending upon the condition among them. We can have any number of elif statements in our program depending upon on our need.However using elif is opitional.  "
   ]
  },
  {
   "cell_type": "markdown",
   "id": "ed275b0c",
   "metadata": {},
   "source": [
    "The elif statement works like an if-else if ladder in C. it Must be succeded by an if statement"
   ]
  },
  {
   "cell_type": "markdown",
   "id": "c8b50b10",
   "metadata": {},
   "source": [
    "The syntax of the elifstatement is given below"
   ]
  },
  {
   "cell_type": "markdown",
   "id": "ec33ef46",
   "metadata": {},
   "source": [
    "if expression 1:\n",
    "#block of statements\n",
    "\n",
    "if expression 2:\n",
    "#block of statements\n",
    "\n",
    "if expression 3:\n",
    "#block of statements\n",
    "\n",
    "else:\n",
    "#block of statements"
   ]
  },
  {
   "cell_type": "code",
   "execution_count": 21,
   "id": "f22aceea",
   "metadata": {},
   "outputs": [
    {
     "name": "stdout",
     "output_type": "stream",
     "text": [
      "I want be able to buy anything\n"
     ]
    }
   ],
   "source": [
    "income =100\n",
    "\n",
    "if income < 50 :#false\n",
    "    print(\"if will be able to buy phone\")\n",
    "elif income < 70: #false\n",
    "    print(\"It will be able to but car\")\n",
    "elif income < 90: #false\n",
    "    print(\"It will be able to rent a house\")\n",
    "else:\n",
    "    print(\"I want be able to buy anything\")"
   ]
  },
  {
   "cell_type": "code",
   "execution_count": 32,
   "id": "270e5bdb",
   "metadata": {},
   "outputs": [
    {
     "name": "stdout",
     "output_type": "stream",
     "text": [
      "5000\n",
      "Discount will be 2500.0\n"
     ]
    }
   ],
   "source": [
    "Total_price = int(input())\n",
    "\n",
    "if Total_price > 20000:\n",
    "    discount = Total_price *.20\n",
    "    print(\"Discount will be\",discount)\n",
    "elif Total_price <= 7000:\n",
    "    discount= Total_price *.50\n",
    "    print(\"Discount will be\",discount)\n",
    "else:\n",
    "    print(\"Won't be able to given any discount\")\n",
    "    "
   ]
  },
  {
   "cell_type": "code",
   "execution_count": null,
   "id": "6844e782",
   "metadata": {},
   "outputs": [],
   "source": []
  },
  {
   "cell_type": "code",
   "execution_count": null,
   "id": "251c11cf",
   "metadata": {},
   "outputs": [],
   "source": []
  }
 ],
 "metadata": {
  "kernelspec": {
   "display_name": "Python 3 (ipykernel)",
   "language": "python",
   "name": "python3"
  },
  "language_info": {
   "codemirror_mode": {
    "name": "ipython",
    "version": 3
   },
   "file_extension": ".py",
   "mimetype": "text/x-python",
   "name": "python",
   "nbconvert_exporter": "python",
   "pygments_lexer": "ipython3",
   "version": "3.9.7"
  }
 },
 "nbformat": 4,
 "nbformat_minor": 5
}
